{
 "cells": [
  {
   "cell_type": "markdown",
   "id": "4bea7461",
   "metadata": {},
   "source": [
    "# Assignment 6"
   ]
  },
  {
   "cell_type": "markdown",
   "id": "6daeab62",
   "metadata": {},
   "source": [
    "### 1. What are escape characters, and how do you use them?\n",
    "* Escape characters represent characters in string values which are diffiult to write in code such as tab,newline.\n",
    "* An escape character is a backslash \\ followed by the character you want to insert."
   ]
  },
  {
   "cell_type": "markdown",
   "id": "5a9654c7",
   "metadata": {},
   "source": [
    "### 2. What do the escape characters n and t stand for?\n",
    "* \\n is a new line.\n",
    "* \\t is a tab."
   ]
  },
  {
   "cell_type": "markdown",
   "id": "918cb7f4",
   "metadata": {},
   "source": [
    "### 3. What is the way to include backslash characters in a string?\n",
    "* The \\\\ escpae character is used to inlude backslash characters in string."
   ]
  },
  {
   "cell_type": "markdown",
   "id": "ef2316f5",
   "metadata": {},
   "source": [
    "### 4. The string \"Howl's Moving Castle\" is a correct value. Why isn't the single quote character in the word Howl's not escaped a problem?\n",
    "* As double quotes are used to mark the beginnng and ending of a string the single quote in Howl's is fine."
   ]
  },
  {
   "cell_type": "markdown",
   "id": "c4fce4f3",
   "metadata": {},
   "source": [
    "### 5. How do you write a string of newlines if you don't want to use the n character?\n",
    "* Multiline strings allow you to use newlines in strings without the \\n escape character."
   ]
  },
  {
   "cell_type": "markdown",
   "id": "3f76e4fd",
   "metadata": {},
   "source": [
    "### 6. What are the values of the given expressions?\n",
    "* value of 'Hello, world!'[1] is 'e'\n",
    "* value of 'Hello, world!'[0:5] is 'Hello'\n",
    "* value of 'Hello, world!'[:5] is 'Hello'\n",
    "* value of 'Hello, world!'[3:] is 'lo, world!'"
   ]
  },
  {
   "cell_type": "markdown",
   "id": "9e0d12aa",
   "metadata": {},
   "source": [
    "### 7. What are the values of the following expressions?\n",
    "* value of 'Hello'.upper() is 'HELLO'\n",
    "* value of 'Hello'.upper().isupper() is True\n",
    "* value of 'Hello'.upper().lower() is 'hello'"
   ]
  },
  {
   "cell_type": "markdown",
   "id": "5f1c335a",
   "metadata": {},
   "source": [
    "### 8. What are the values of the following expressions?\n",
    "* value of  'Remember, remember, the fifth of July.'.split()  is ['Remember,', 'remember,', 'the', 'fifth', 'of', 'July.']\n",
    "* above you can see the string being split into list of elements into the string.\n",
    "* value of  '-'.join('There can only one.'.split())  is 'There-can-only-one.'\n",
    "* above you can see the string is first split and then joined with '-' character"
   ]
  },
  {
   "cell_type": "markdown",
   "id": "15a374b8",
   "metadata": {},
   "source": [
    "### 9. What are the methods for right-justifying, left-justifying, and centering a string?\n",
    "* The rjust() for right justifying \n",
    "* ljust() for left justifying \n",
    "* center() for centering a string"
   ]
  },
  {
   "cell_type": "markdown",
   "id": "76687c87",
   "metadata": {},
   "source": [
    "### 10. What is the best way to remove whitespace characters from the start or end?\n",
    "* lstrip() and rstrip() methods remove whitespace from the start(left) and end(right) of a string, respectively."
   ]
  }
 ],
 "metadata": {
  "kernelspec": {
   "display_name": "Python 3 (ipykernel)",
   "language": "python",
   "name": "python3"
  },
  "language_info": {
   "codemirror_mode": {
    "name": "ipython",
    "version": 3
   },
   "file_extension": ".py",
   "mimetype": "text/x-python",
   "name": "python",
   "nbconvert_exporter": "python",
   "pygments_lexer": "ipython3",
   "version": "3.8.10"
  }
 },
 "nbformat": 4,
 "nbformat_minor": 5
}
